{
 "cells": [
  {
   "cell_type": "code",
   "execution_count": 2,
   "metadata": {},
   "outputs": [],
   "source": [
    "import numpy as np\n",
    "import matplotlib.pyplot as plt \n",
    "import networkx as nx\n",
    "from IPython.display import display, clear_output\n",
    "from scipy import signal\n",
    "from scipy import fftpack\n",
    "from numpy.fft import fft, fftfreq\n",
    "import os\n",
    "import pandas as pd\n",
    "import time \n",
    "\n",
    "# import custom module\n",
    "import SIRS_twoSF"
   ]
  },
  {
   "cell_type": "code",
   "execution_count": 3,
   "metadata": {},
   "outputs": [
    {
     "data": {
      "text/plain": [
       "<module 'SIRS_twoSF' from '/home/clara/OneDrive/Università/Terzo Semestre/Life Data Epidemiology/LDE_project/LifeDataEpidemiology/SIRS_twoSF.py'>"
      ]
     },
     "execution_count": 3,
     "metadata": {},
     "output_type": "execute_result"
    }
   ],
   "source": [
    "# needed only if you made some changes at SIRS.py and want to import the updated version of the module\n",
    "from importlib import reload\n",
    "reload(SIRS_twoSF)"
   ]
  },
  {
   "cell_type": "code",
   "execution_count": 4,
   "metadata": {},
   "outputs": [],
   "source": [
    "# to install tqdm\n",
    "#! pip install tqdm\n",
    "\n",
    "from tqdm import tnrange, trange"
   ]
  },
  {
   "cell_type": "markdown",
   "metadata": {},
   "source": [
    "# STARTING TO EXPLORE MOBILITY: changing probability of travel p_mob"
   ]
  },
  {
   "cell_type": "markdown",
   "metadata": {},
   "source": [
    "We fixed the epidemic parameters in a \"critical\" point at which most of the times the epidemics does not survive and dies out after some iterations. The topology of the two networks is also kept fixed. We now explore the role of the mobility parameter p_mob."
   ]
  },
  {
   "cell_type": "code",
   "execution_count": 10,
   "metadata": {},
   "outputs": [],
   "source": [
    "#mobility and topology parameters\n",
    "N = 1000\n",
    "I_sf1_init = 5\n",
    "I_sf2_init = 0\n",
    "mean_degree = 4\n",
    "eps = 0.1 "
   ]
  },
  {
   "cell_type": "code",
   "execution_count": 11,
   "metadata": {},
   "outputs": [
    {
     "name": "stdout",
     "output_type": "stream",
     "text": [
      "Number of travellers:\n",
      "p=0.03    N=30\n",
      "p=0.04    N=38\n",
      "p=0.05    N=47\n",
      "p=0.06    N=56\n",
      "p=0.07    N=65\n",
      "p=0.07    N=74\n",
      "p=0.08    N=83\n",
      "p=0.09    N=92\n",
      "p=0.10    N=101\n",
      "p=0.11    N=110\n",
      "p=0.12    N=119\n",
      "p=0.13    N=128\n",
      "p=0.14    N=137\n",
      "p=0.15    N=146\n",
      "p=0.16    N=155\n",
      "p=0.16    N=164\n",
      "p=0.17    N=173\n",
      "p=0.18    N=182\n",
      "p=0.19    N=191\n",
      "p=0.20    N=200\n"
     ]
    }
   ],
   "source": [
    "#beta_list = [0.3]\n",
    "#gamma_list = [0.02]\n",
    "beta0 = 0.3\n",
    "gamma = 0.016\n",
    "mu = 0.15\n",
    "\n",
    "p_mob_list = np.linspace(0.03,0.2,20)\n",
    "#p_mob_list_nico = p_mob_list[10:]\n",
    "#p_mob_list_clara = p_mob_list[:10]\n",
    "#p_mob_list = p_mob_list[:10]\n",
    "print('Number of travellers:')\n",
    "for p in p_mob_list:\n",
    "    print('p=%.2f    N=%d'%(p, int(p*N)))"
   ]
  },
  {
   "cell_type": "code",
   "execution_count": null,
   "metadata": {
    "scrolled": true
   },
   "outputs": [
    {
     "name": "stdout",
     "output_type": "stream",
     "text": [
      "Simulation 1/20 - P_mob: 0.030\n"
     ]
    },
    {
     "data": {
      "application/vnd.jupyter.widget-view+json": {
       "model_id": "4abf0e1e01814ff48f92324f9739483b",
       "version_major": 2,
       "version_minor": 0
      },
      "text/plain": [
       "HBox(children=(IntProgress(value=0, description='1st loop', style=ProgressStyle(description_width='initial')),…"
      ]
     },
     "metadata": {},
     "output_type": "display_data"
    },
    {
     "data": {
      "application/vnd.jupyter.widget-view+json": {
       "model_id": "",
       "version_major": 2,
       "version_minor": 0
      },
      "text/plain": [
       "HBox(children=(IntProgress(value=0, description='2nd loop', max=1000, style=ProgressStyle(description_width='i…"
      ]
     },
     "metadata": {},
     "output_type": "display_data"
    },
    {
     "data": {
      "application/vnd.jupyter.widget-view+json": {
       "model_id": "",
       "version_major": 2,
       "version_minor": 0
      },
      "text/plain": [
       "HBox(children=(IntProgress(value=0, description='2nd loop', max=1000, style=ProgressStyle(description_width='i…"
      ]
     },
     "metadata": {},
     "output_type": "display_data"
    },
    {
     "data": {
      "application/vnd.jupyter.widget-view+json": {
       "model_id": "",
       "version_major": 2,
       "version_minor": 0
      },
      "text/plain": [
       "HBox(children=(IntProgress(value=0, description='2nd loop', max=1000, style=ProgressStyle(description_width='i…"
      ]
     },
     "metadata": {},
     "output_type": "display_data"
    },
    {
     "data": {
      "application/vnd.jupyter.widget-view+json": {
       "model_id": "",
       "version_major": 2,
       "version_minor": 0
      },
      "text/plain": [
       "HBox(children=(IntProgress(value=0, description='2nd loop', max=1000, style=ProgressStyle(description_width='i…"
      ]
     },
     "metadata": {},
     "output_type": "display_data"
    },
    {
     "data": {
      "application/vnd.jupyter.widget-view+json": {
       "model_id": "",
       "version_major": 2,
       "version_minor": 0
      },
      "text/plain": [
       "HBox(children=(IntProgress(value=0, description='2nd loop', max=1000, style=ProgressStyle(description_width='i…"
      ]
     },
     "metadata": {},
     "output_type": "display_data"
    },
    {
     "data": {
      "application/vnd.jupyter.widget-view+json": {
       "model_id": "",
       "version_major": 2,
       "version_minor": 0
      },
      "text/plain": [
       "HBox(children=(IntProgress(value=0, description='2nd loop', max=1000, style=ProgressStyle(description_width='i…"
      ]
     },
     "metadata": {},
     "output_type": "display_data"
    },
    {
     "data": {
      "application/vnd.jupyter.widget-view+json": {
       "model_id": "",
       "version_major": 2,
       "version_minor": 0
      },
      "text/plain": [
       "HBox(children=(IntProgress(value=0, description='2nd loop', max=1000, style=ProgressStyle(description_width='i…"
      ]
     },
     "metadata": {},
     "output_type": "display_data"
    },
    {
     "data": {
      "application/vnd.jupyter.widget-view+json": {
       "model_id": "",
       "version_major": 2,
       "version_minor": 0
      },
      "text/plain": [
       "HBox(children=(IntProgress(value=0, description='2nd loop', max=1000, style=ProgressStyle(description_width='i…"
      ]
     },
     "metadata": {},
     "output_type": "display_data"
    },
    {
     "data": {
      "application/vnd.jupyter.widget-view+json": {
       "model_id": "",
       "version_major": 2,
       "version_minor": 0
      },
      "text/plain": [
       "HBox(children=(IntProgress(value=0, description='2nd loop', max=1000, style=ProgressStyle(description_width='i…"
      ]
     },
     "metadata": {},
     "output_type": "display_data"
    },
    {
     "data": {
      "application/vnd.jupyter.widget-view+json": {
       "model_id": "",
       "version_major": 2,
       "version_minor": 0
      },
      "text/plain": [
       "HBox(children=(IntProgress(value=0, description='2nd loop', max=1000, style=ProgressStyle(description_width='i…"
      ]
     },
     "metadata": {},
     "output_type": "display_data"
    },
    {
     "data": {
      "application/vnd.jupyter.widget-view+json": {
       "model_id": "",
       "version_major": 2,
       "version_minor": 0
      },
      "text/plain": [
       "HBox(children=(IntProgress(value=0, description='2nd loop', max=1000, style=ProgressStyle(description_width='i…"
      ]
     },
     "metadata": {},
     "output_type": "display_data"
    },
    {
     "data": {
      "application/vnd.jupyter.widget-view+json": {
       "model_id": "",
       "version_major": 2,
       "version_minor": 0
      },
      "text/plain": [
       "HBox(children=(IntProgress(value=0, description='2nd loop', max=1000, style=ProgressStyle(description_width='i…"
      ]
     },
     "metadata": {},
     "output_type": "display_data"
    },
    {
     "data": {
      "application/vnd.jupyter.widget-view+json": {
       "model_id": "",
       "version_major": 2,
       "version_minor": 0
      },
      "text/plain": [
       "HBox(children=(IntProgress(value=0, description='2nd loop', max=1000, style=ProgressStyle(description_width='i…"
      ]
     },
     "metadata": {},
     "output_type": "display_data"
    },
    {
     "data": {
      "application/vnd.jupyter.widget-view+json": {
       "model_id": "",
       "version_major": 2,
       "version_minor": 0
      },
      "text/plain": [
       "HBox(children=(IntProgress(value=0, description='2nd loop', max=1000, style=ProgressStyle(description_width='i…"
      ]
     },
     "metadata": {},
     "output_type": "display_data"
    },
    {
     "data": {
      "application/vnd.jupyter.widget-view+json": {
       "model_id": "",
       "version_major": 2,
       "version_minor": 0
      },
      "text/plain": [
       "HBox(children=(IntProgress(value=0, description='2nd loop', max=1000, style=ProgressStyle(description_width='i…"
      ]
     },
     "metadata": {},
     "output_type": "display_data"
    },
    {
     "data": {
      "application/vnd.jupyter.widget-view+json": {
       "model_id": "",
       "version_major": 2,
       "version_minor": 0
      },
      "text/plain": [
       "HBox(children=(IntProgress(value=0, description='2nd loop', max=1000, style=ProgressStyle(description_width='i…"
      ]
     },
     "metadata": {},
     "output_type": "display_data"
    },
    {
     "data": {
      "application/vnd.jupyter.widget-view+json": {
       "model_id": "",
       "version_major": 2,
       "version_minor": 0
      },
      "text/plain": [
       "HBox(children=(IntProgress(value=0, description='2nd loop', max=1000, style=ProgressStyle(description_width='i…"
      ]
     },
     "metadata": {},
     "output_type": "display_data"
    },
    {
     "data": {
      "application/vnd.jupyter.widget-view+json": {
       "model_id": "",
       "version_major": 2,
       "version_minor": 0
      },
      "text/plain": [
       "HBox(children=(IntProgress(value=0, description='2nd loop', max=1000, style=ProgressStyle(description_width='i…"
      ]
     },
     "metadata": {},
     "output_type": "display_data"
    },
    {
     "data": {
      "application/vnd.jupyter.widget-view+json": {
       "model_id": "",
       "version_major": 2,
       "version_minor": 0
      },
      "text/plain": [
       "HBox(children=(IntProgress(value=0, description='2nd loop', max=1000, style=ProgressStyle(description_width='i…"
      ]
     },
     "metadata": {},
     "output_type": "display_data"
    },
    {
     "data": {
      "application/vnd.jupyter.widget-view+json": {
       "model_id": "",
       "version_major": 2,
       "version_minor": 0
      },
      "text/plain": [
       "HBox(children=(IntProgress(value=0, description='2nd loop', max=1000, style=ProgressStyle(description_width='i…"
      ]
     },
     "metadata": {},
     "output_type": "display_data"
    },
    {
     "data": {
      "application/vnd.jupyter.widget-view+json": {
       "model_id": "",
       "version_major": 2,
       "version_minor": 0
      },
      "text/plain": [
       "HBox(children=(IntProgress(value=0, description='2nd loop', max=1000, style=ProgressStyle(description_width='i…"
      ]
     },
     "metadata": {},
     "output_type": "display_data"
    },
    {
     "data": {
      "application/vnd.jupyter.widget-view+json": {
       "model_id": "",
       "version_major": 2,
       "version_minor": 0
      },
      "text/plain": [
       "HBox(children=(IntProgress(value=0, description='2nd loop', max=1000, style=ProgressStyle(description_width='i…"
      ]
     },
     "metadata": {},
     "output_type": "display_data"
    },
    {
     "data": {
      "application/vnd.jupyter.widget-view+json": {
       "model_id": "",
       "version_major": 2,
       "version_minor": 0
      },
      "text/plain": [
       "HBox(children=(IntProgress(value=0, description='2nd loop', max=1000, style=ProgressStyle(description_width='i…"
      ]
     },
     "metadata": {},
     "output_type": "display_data"
    },
    {
     "data": {
      "application/vnd.jupyter.widget-view+json": {
       "model_id": "",
       "version_major": 2,
       "version_minor": 0
      },
      "text/plain": [
       "HBox(children=(IntProgress(value=0, description='2nd loop', max=1000, style=ProgressStyle(description_width='i…"
      ]
     },
     "metadata": {},
     "output_type": "display_data"
    },
    {
     "data": {
      "application/vnd.jupyter.widget-view+json": {
       "model_id": "",
       "version_major": 2,
       "version_minor": 0
      },
      "text/plain": [
       "HBox(children=(IntProgress(value=0, description='2nd loop', max=1000, style=ProgressStyle(description_width='i…"
      ]
     },
     "metadata": {},
     "output_type": "display_data"
    },
    {
     "data": {
      "application/vnd.jupyter.widget-view+json": {
       "model_id": "",
       "version_major": 2,
       "version_minor": 0
      },
      "text/plain": [
       "HBox(children=(IntProgress(value=0, description='2nd loop', max=1000, style=ProgressStyle(description_width='i…"
      ]
     },
     "metadata": {},
     "output_type": "display_data"
    },
    {
     "data": {
      "application/vnd.jupyter.widget-view+json": {
       "model_id": "",
       "version_major": 2,
       "version_minor": 0
      },
      "text/plain": [
       "HBox(children=(IntProgress(value=0, description='2nd loop', max=1000, style=ProgressStyle(description_width='i…"
      ]
     },
     "metadata": {},
     "output_type": "display_data"
    },
    {
     "data": {
      "application/vnd.jupyter.widget-view+json": {
       "model_id": "",
       "version_major": 2,
       "version_minor": 0
      },
      "text/plain": [
       "HBox(children=(IntProgress(value=0, description='2nd loop', max=1000, style=ProgressStyle(description_width='i…"
      ]
     },
     "metadata": {},
     "output_type": "display_data"
    },
    {
     "data": {
      "application/vnd.jupyter.widget-view+json": {
       "model_id": "",
       "version_major": 2,
       "version_minor": 0
      },
      "text/plain": [
       "HBox(children=(IntProgress(value=0, description='2nd loop', max=1000, style=ProgressStyle(description_width='i…"
      ]
     },
     "metadata": {},
     "output_type": "display_data"
    },
    {
     "data": {
      "application/vnd.jupyter.widget-view+json": {
       "model_id": "",
       "version_major": 2,
       "version_minor": 0
      },
      "text/plain": [
       "HBox(children=(IntProgress(value=0, description='2nd loop', max=1000, style=ProgressStyle(description_width='i…"
      ]
     },
     "metadata": {},
     "output_type": "display_data"
    },
    {
     "data": {
      "application/vnd.jupyter.widget-view+json": {
       "model_id": "",
       "version_major": 2,
       "version_minor": 0
      },
      "text/plain": [
       "HBox(children=(IntProgress(value=0, description='2nd loop', max=1000, style=ProgressStyle(description_width='i…"
      ]
     },
     "metadata": {},
     "output_type": "display_data"
    },
    {
     "data": {
      "application/vnd.jupyter.widget-view+json": {
       "model_id": "",
       "version_major": 2,
       "version_minor": 0
      },
      "text/plain": [
       "HBox(children=(IntProgress(value=0, description='2nd loop', max=1000, style=ProgressStyle(description_width='i…"
      ]
     },
     "metadata": {},
     "output_type": "display_data"
    },
    {
     "data": {
      "application/vnd.jupyter.widget-view+json": {
       "model_id": "",
       "version_major": 2,
       "version_minor": 0
      },
      "text/plain": [
       "HBox(children=(IntProgress(value=0, description='2nd loop', max=1000, style=ProgressStyle(description_width='i…"
      ]
     },
     "metadata": {},
     "output_type": "display_data"
    },
    {
     "data": {
      "application/vnd.jupyter.widget-view+json": {
       "model_id": "",
       "version_major": 2,
       "version_minor": 0
      },
      "text/plain": [
       "HBox(children=(IntProgress(value=0, description='2nd loop', max=1000, style=ProgressStyle(description_width='i…"
      ]
     },
     "metadata": {},
     "output_type": "display_data"
    },
    {
     "data": {
      "application/vnd.jupyter.widget-view+json": {
       "model_id": "",
       "version_major": 2,
       "version_minor": 0
      },
      "text/plain": [
       "HBox(children=(IntProgress(value=0, description='2nd loop', max=1000, style=ProgressStyle(description_width='i…"
      ]
     },
     "metadata": {},
     "output_type": "display_data"
    },
    {
     "data": {
      "application/vnd.jupyter.widget-view+json": {
       "model_id": "",
       "version_major": 2,
       "version_minor": 0
      },
      "text/plain": [
       "HBox(children=(IntProgress(value=0, description='2nd loop', max=1000, style=ProgressStyle(description_width='i…"
      ]
     },
     "metadata": {},
     "output_type": "display_data"
    },
    {
     "data": {
      "application/vnd.jupyter.widget-view+json": {
       "model_id": "",
       "version_major": 2,
       "version_minor": 0
      },
      "text/plain": [
       "HBox(children=(IntProgress(value=0, description='2nd loop', max=1000, style=ProgressStyle(description_width='i…"
      ]
     },
     "metadata": {},
     "output_type": "display_data"
    },
    {
     "data": {
      "application/vnd.jupyter.widget-view+json": {
       "model_id": "",
       "version_major": 2,
       "version_minor": 0
      },
      "text/plain": [
       "HBox(children=(IntProgress(value=0, description='2nd loop', max=1000, style=ProgressStyle(description_width='i…"
      ]
     },
     "metadata": {},
     "output_type": "display_data"
    },
    {
     "data": {
      "application/vnd.jupyter.widget-view+json": {
       "model_id": "",
       "version_major": 2,
       "version_minor": 0
      },
      "text/plain": [
       "HBox(children=(IntProgress(value=0, description='2nd loop', max=1000, style=ProgressStyle(description_width='i…"
      ]
     },
     "metadata": {},
     "output_type": "display_data"
    },
    {
     "data": {
      "application/vnd.jupyter.widget-view+json": {
       "model_id": "",
       "version_major": 2,
       "version_minor": 0
      },
      "text/plain": [
       "HBox(children=(IntProgress(value=0, description='2nd loop', max=1000, style=ProgressStyle(description_width='i…"
      ]
     },
     "metadata": {},
     "output_type": "display_data"
    },
    {
     "data": {
      "application/vnd.jupyter.widget-view+json": {
       "model_id": "",
       "version_major": 2,
       "version_minor": 0
      },
      "text/plain": [
       "HBox(children=(IntProgress(value=0, description='2nd loop', max=1000, style=ProgressStyle(description_width='i…"
      ]
     },
     "metadata": {},
     "output_type": "display_data"
    },
    {
     "data": {
      "application/vnd.jupyter.widget-view+json": {
       "model_id": "",
       "version_major": 2,
       "version_minor": 0
      },
      "text/plain": [
       "HBox(children=(IntProgress(value=0, description='2nd loop', max=1000, style=ProgressStyle(description_width='i…"
      ]
     },
     "metadata": {},
     "output_type": "display_data"
    },
    {
     "data": {
      "application/vnd.jupyter.widget-view+json": {
       "model_id": "",
       "version_major": 2,
       "version_minor": 0
      },
      "text/plain": [
       "HBox(children=(IntProgress(value=0, description='2nd loop', max=1000, style=ProgressStyle(description_width='i…"
      ]
     },
     "metadata": {},
     "output_type": "display_data"
    },
    {
     "data": {
      "application/vnd.jupyter.widget-view+json": {
       "model_id": "",
       "version_major": 2,
       "version_minor": 0
      },
      "text/plain": [
       "HBox(children=(IntProgress(value=0, description='2nd loop', max=1000, style=ProgressStyle(description_width='i…"
      ]
     },
     "metadata": {},
     "output_type": "display_data"
    },
    {
     "data": {
      "application/vnd.jupyter.widget-view+json": {
       "model_id": "",
       "version_major": 2,
       "version_minor": 0
      },
      "text/plain": [
       "HBox(children=(IntProgress(value=0, description='2nd loop', max=1000, style=ProgressStyle(description_width='i…"
      ]
     },
     "metadata": {},
     "output_type": "display_data"
    },
    {
     "data": {
      "application/vnd.jupyter.widget-view+json": {
       "model_id": "",
       "version_major": 2,
       "version_minor": 0
      },
      "text/plain": [
       "HBox(children=(IntProgress(value=0, description='2nd loop', max=1000, style=ProgressStyle(description_width='i…"
      ]
     },
     "metadata": {},
     "output_type": "display_data"
    },
    {
     "data": {
      "application/vnd.jupyter.widget-view+json": {
       "model_id": "",
       "version_major": 2,
       "version_minor": 0
      },
      "text/plain": [
       "HBox(children=(IntProgress(value=0, description='2nd loop', max=1000, style=ProgressStyle(description_width='i…"
      ]
     },
     "metadata": {},
     "output_type": "display_data"
    },
    {
     "data": {
      "application/vnd.jupyter.widget-view+json": {
       "model_id": "",
       "version_major": 2,
       "version_minor": 0
      },
      "text/plain": [
       "HBox(children=(IntProgress(value=0, description='2nd loop', max=1000, style=ProgressStyle(description_width='i…"
      ]
     },
     "metadata": {},
     "output_type": "display_data"
    },
    {
     "data": {
      "application/vnd.jupyter.widget-view+json": {
       "model_id": "",
       "version_major": 2,
       "version_minor": 0
      },
      "text/plain": [
       "HBox(children=(IntProgress(value=0, description='2nd loop', max=1000, style=ProgressStyle(description_width='i…"
      ]
     },
     "metadata": {},
     "output_type": "display_data"
    },
    {
     "data": {
      "application/vnd.jupyter.widget-view+json": {
       "model_id": "",
       "version_major": 2,
       "version_minor": 0
      },
      "text/plain": [
       "HBox(children=(IntProgress(value=0, description='2nd loop', max=1000, style=ProgressStyle(description_width='i…"
      ]
     },
     "metadata": {},
     "output_type": "display_data"
    },
    {
     "data": {
      "application/vnd.jupyter.widget-view+json": {
       "model_id": "",
       "version_major": 2,
       "version_minor": 0
      },
      "text/plain": [
       "HBox(children=(IntProgress(value=0, description='2nd loop', max=1000, style=ProgressStyle(description_width='i…"
      ]
     },
     "metadata": {},
     "output_type": "display_data"
    },
    {
     "data": {
      "application/vnd.jupyter.widget-view+json": {
       "model_id": "",
       "version_major": 2,
       "version_minor": 0
      },
      "text/plain": [
       "HBox(children=(IntProgress(value=0, description='2nd loop', max=1000, style=ProgressStyle(description_width='i…"
      ]
     },
     "metadata": {},
     "output_type": "display_data"
    },
    {
     "data": {
      "application/vnd.jupyter.widget-view+json": {
       "model_id": "",
       "version_major": 2,
       "version_minor": 0
      },
      "text/plain": [
       "HBox(children=(IntProgress(value=0, description='2nd loop', max=1000, style=ProgressStyle(description_width='i…"
      ]
     },
     "metadata": {},
     "output_type": "display_data"
    },
    {
     "data": {
      "application/vnd.jupyter.widget-view+json": {
       "model_id": "",
       "version_major": 2,
       "version_minor": 0
      },
      "text/plain": [
       "HBox(children=(IntProgress(value=0, description='2nd loop', max=1000, style=ProgressStyle(description_width='i…"
      ]
     },
     "metadata": {},
     "output_type": "display_data"
    },
    {
     "data": {
      "application/vnd.jupyter.widget-view+json": {
       "model_id": "f632c670327e40258f983601a92338d6",
       "version_major": 2,
       "version_minor": 0
      },
      "text/plain": [
       "HBox(children=(IntProgress(value=0, description='2nd loop', max=1000, style=ProgressStyle(description_width='i…"
      ]
     },
     "metadata": {},
     "output_type": "display_data"
    }
   ],
   "source": [
    "beta = beta0/mean_degree\n",
    "infection_params = dict(beta=beta, mu=mu, gamma=gamma)\n",
    "\n",
    "#R_0 = beta/mu\n",
    "\n",
    "#print(\"Basic Reproductive Ratio (taking into account topology):\", R_0)\n",
    "#print(\"\\u03B2 (taking into account topology):\", beta)\n",
    "\n",
    "\n",
    "UP_directory_name = 'data_SF/'+str(beta)+\"_\"+str(mu)+\"_\"+str(gamma) \n",
    "os.system(\"mkdir data_SF\")\n",
    "os.system(\"mkdir \"+UP_directory_name)\n",
    "start = time.time()\n",
    "\n",
    "for j, p_mob in enumerate(p_mob_list):\n",
    "\n",
    "    print('Simulation %d/%d'%(j+1,len(p_mob_list)), end =' - ')\n",
    "    print(\"P_mob: %.3f\"% p_mob)\n",
    "\n",
    "\n",
    "    #saving stuff for future analysis\n",
    "    directory_name = UP_directory_name+\"/pmob_\"+\"{:3f}\".format(p_mob)\n",
    "    os.system(\"mkdir \"+directory_name)\n",
    "\n",
    "    #saving epidemics, topology and mobility parameters\n",
    "\n",
    "    params=dict(N=N, I_sf1_init=I_sf1_init, I_sf2_nit=I_sf2_init, p_mob=p_mob, mean_degree=mean_degree,\n",
    "                eps=eps, **infection_params)\n",
    "\n",
    "    parameters = pd.DataFrame(params, index=[0])\n",
    "    save=directory_name+\"/parameters.csv\"\n",
    "    parameters.to_csv(save)\n",
    "\n",
    "\n",
    "\n",
    "    #STARTING SIMULATION\n",
    "    n_runs = 100\n",
    "    n_iter = 1000\n",
    "\n",
    "\n",
    "    S_tot_sf2=0\n",
    "    I_tot_sf2=0\n",
    "    R_tot_sf2=0\n",
    "    S_tot_sf1=0\n",
    "    I_tot_sf1=0\n",
    "    R_tot_sf1=0\n",
    "\n",
    "\n",
    "    for run in tnrange(n_runs, desc='1st loop', leave=True):\n",
    "\n",
    "\n",
    "        # prepare systems\n",
    "        state_sf1_init, state_sf2_init, variables_net_sf1, variables_net_sf2 = SIRS.prepare_two_sys(N, I_sf1_init, I_sf2_init, \n",
    "                                                                                      p_mob, mean_degree)\n",
    "\n",
    "        #saving initial states\n",
    "        save = directory_name + \"/state_sf1_init_\"+str(run)+\".txt\"\n",
    "        np.savetxt(save, state_sf1_init.astype(int), fmt ='%d')\n",
    "\n",
    "        save = directory_name + \"/state_sf2_init_\"+str(run)+\".txt\"\n",
    "        np.savetxt(save, state_sf1_init.astype(int), fmt ='%d')\n",
    "\n",
    "        save = directory_name + \"/travellers_sf1_\"+str(run)+\".txt\"\n",
    "        travellers_sf1 = variables_net_sf1[\"travellers_sf1\"]\n",
    "        np.savetxt(save, travellers_sf1.astype(int), fmt ='%d')\n",
    "        \n",
    "        save = directory_name + \"/travellers_sf2_\"+str(run)+\".txt\"\n",
    "        travellers_sf2 = variables_net_sf2[\"travellers_sf2\"]\n",
    "        np.savetxt(save, travellers_sf2.astype(int), fmt ='%d')\n",
    "        \n",
    "        #saving initial variables: we just save the IDs of the travelling nodes and their degrees\n",
    "        save = directory_name + \"/deg_trav_sf1_\"+str(run)+\".txt\"\n",
    "        deg_sf1 = variables_net_sf1[\"A_sf1\"].sum(axis=1)\n",
    "        deg_trav_sf1 = deg_sf1[travellers_sf1]\n",
    "        np.savetxt(save, deg_trav_sf1.astype(int), fmt ='%d')\n",
    "        \n",
    "        save = directory_name + \"/deg_trav_sf2_\"+str(run)+\".txt\"\n",
    "        deg_sf2 = variables_net_sf2[\"A_sf2\"].sum(axis=1)\n",
    "        deg_trav_sf2 = deg_sf2[travellers_sf2]\n",
    "        np.savetxt(save, deg_trav_sf2.astype(int), fmt ='%d')\n",
    "\n",
    "\n",
    "        \n",
    "        \n",
    "\n",
    "        #print(\"Iteration:\", run)\n",
    "\n",
    "        state_sf1 = np.copy(state_sf1_init)\n",
    "        state_sf2 = np.copy(state_sf2_init)\n",
    "\n",
    "        S_sf1 = [N - I_sf1_init]\n",
    "        I_sf1 = [I_sf1_init]\n",
    "        R_sf1 = [0]\n",
    "        S_sf2 = [N - I_sf2_init]\n",
    "        I_sf2 = [I_sf2_init]\n",
    "        R_sf2 = [0]\n",
    "        t_vec = []\n",
    "        for i in tnrange(n_iter, desc='2nd loop', leave=False):\n",
    "            state_sf1, state_sf2 = SIRS.two_sys_full_SIRS_step(state_sf1, state_sf2, **variables_net_sf1, \n",
    "                                                    **variables_net_sf2, **infection_params)\n",
    "            S_sf1.append(state_sf1[:,0].sum())\n",
    "            I_sf1.append(state_sf1[:,1].sum())\n",
    "            R_sf1.append(state_sf1[:,2].sum())\n",
    "            S_sf2.append(state_sf2[:,0].sum())\n",
    "            I_sf2.append(state_sf2[:,1].sum())\n",
    "            R_sf2.append(state_sf2[:,2].sum())\n",
    "            #t_vec.append(time.time()-start)\n",
    "\n",
    "        #tot_time = time.time()-start\n",
    "        #print(\"Total time elapsed: %.2f s\"%tot_time)\n",
    "        #print(\"Time per iteration: %.4f s\"%(tot_time/n_iter))\n",
    "\n",
    "        S_sf1 = np.array(S_sf1)\n",
    "        I_sf1 = np.array(I_sf1)\n",
    "        R_sf1 = np.array(R_sf1)\n",
    "        S_sf2 = np.array(S_sf2)\n",
    "        I_sf2 = np.array(I_sf2)\n",
    "        R_sf2 = np.array(R_sf2)\n",
    "        t_vec = np.array(t_vec)\n",
    "\n",
    "        #save timeseries of SIR\n",
    "        SIR_sf1 = np.vstack((S_sf1, I_sf1, R_sf1)).T\n",
    "        save = directory_name+\"/SIR_sf1_\"+str(run)+\".txt\"\n",
    "        np.savetxt(save, SIR_sf1.astype(int), fmt ='%d')\n",
    "        SIR_sf2 = np.vstack((S_sf2, I_sf2, R_sf2)).T\n",
    "        save = directory_name+\"/SIR_sf2_\"+str(run)+\".txt\"\n",
    "        np.savetxt(save, SIR_sf2.astype(int), fmt ='%d')\n",
    "        \n",
    "        # broadcast S_tot_sf1 (and all the others) to numpy arrays\n",
    "        S_tot_sf1+=S_sf1\n",
    "        I_tot_sf1+=I_sf1\n",
    "        R_tot_sf1+=R_sf1\n",
    "        S_tot_sf2+=S_sf2\n",
    "        I_tot_sf2+=I_sf2\n",
    "        R_tot_sf2+=R_sf2\n",
    "\n",
    "\n",
    "\n",
    "    indexes = np.arange(n_iter+1)\n",
    "    fig, ax = plt.subplots(1,2, figsize=(15,8))\n",
    "    ax[0].plot(indexes, S_tot_sf1/n_runs, label = r'$S_{sf}$')\n",
    "    ax[0].plot(indexes, I_tot_sf1/n_runs, label = r'$I_{sf}$')\n",
    "    ax[0].plot(indexes, R_tot_sf1/n_runs, label = r'$R_{sf}$')\n",
    "    ax[0].plot(indexes, (S_tot_sf1+I_tot_sf1+R_tot_sf1)/n_runs, label = 'tot')\n",
    "    ax[0].set_xlabel('Number of iterations', fontsize = 16)\n",
    "    ax[0].set_ylabel('Number of individuals', fontsize = 16)\n",
    "    ax[0].set_title(\"Scale-free network\", fontsize = 16)\n",
    "    ax[0].legend(fontsize=13, loc='upper right')\n",
    "\n",
    "    ax[1].plot(indexes, S_tot_sf2/n_runs, label = r'$S_{er}$')\n",
    "    ax[1].plot(indexes, I_tot_sf2/n_runs, label = r'$I_{er}$')\n",
    "    ax[1].plot(indexes, R_tot_sf2/n_runs, label = r'$R_{er}$')\n",
    "    ax[1].plot(indexes, (S_tot_sf2+I_tot_sf2+R_tot_sf2)/n_runs, label = 'tot')\n",
    "    ax[1].set_title(\"Erdosh-Renyi network\", fontsize = 16)\n",
    "    ax[1].set_xlabel('Number of iterations', fontsize = 16)\n",
    "    ax[1].set_ylabel('Number of individuals', fontsize = 16)\n",
    "    ax[1].legend(fontsize=13, loc='upper right')\n",
    "\n",
    "\n",
    "\n",
    "    plt.suptitle(r\"Mean on {} runs, p_mob = {:.3f}; $\\beta= {:.3f}; \\mu= {:.3f}; \\gamma= {:.3f}$\".format(n_runs, p_mob, mu, beta, gamma), fontsize=20)\n",
    "    fig.tight_layout()\n",
    "\n",
    "    save = directory_name+\"/total_\"+str(p_mob)+\".png\"\n",
    "    fig.savefig(save)\n",
    "    plt.close()\n",
    "    \n",
    "    dt = (time.time() - start)/3600\n",
    "    # estimated time of arrival\n",
    "    eta = (dt/(j+1))*(len(p_mob_list)-j-1)\n",
    "    print(\"Total time elapsed: %.2f - ETA: %.2f\"%(dt, eta))"
   ]
  },
  {
   "cell_type": "code",
   "execution_count": null,
   "metadata": {},
   "outputs": [],
   "source": []
  }
 ],
 "metadata": {
  "kernelspec": {
   "display_name": "Python 3",
   "language": "python",
   "name": "python3"
  },
  "language_info": {
   "codemirror_mode": {
    "name": "ipython",
    "version": 3
   },
   "file_extension": ".py",
   "mimetype": "text/x-python",
   "name": "python",
   "nbconvert_exporter": "python",
   "pygments_lexer": "ipython3",
   "version": "3.7.3"
  },
  "toc": {
   "base_numbering": 1,
   "nav_menu": {},
   "number_sections": true,
   "sideBar": true,
   "skip_h1_title": false,
   "title_cell": "Table of Contents",
   "title_sidebar": "Contents",
   "toc_cell": false,
   "toc_position": {},
   "toc_section_display": true,
   "toc_window_display": false
  }
 },
 "nbformat": 4,
 "nbformat_minor": 2
}
